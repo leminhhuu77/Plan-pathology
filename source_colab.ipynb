{
  "cells": [
    {
      "cell_type": "code",
      "execution_count": null,
      "metadata": {
        "id": "LOjYwXfK2Xvh"
      },
      "outputs": [],
      "source": [
        "from keras.utils import np_utils\n",
        "from keras.models import Sequential\n",
        "from keras.layers import Convolution2D,Dense,MaxPool2D,Activation,Dropout,Flatten\n",
        "from keras.layers import GlobalAveragePooling2D\n",
        "# from keras.optimizers import Adam\n",
        "from tensorflow.keras.optimizers import Adam\n",
        "from sklearn.model_selection import train_test_split\n",
        "# from keras.layers.normalization import BatchNormalization\n",
        "from tensorflow.keras.layers import BatchNormalization\n",
        "import os\n",
        "import pandas as pd\n",
        "import plotly.graph_objs as go\n",
        "import matplotlib.ticker as ticker\n",
        "import matplotlib.pyplot as plt\n",
        "import seaborn as sns\n",
        "import plotly.express as px\n",
        "import cv2\n",
        "import numpy as np\n",
        "from sklearn.model_selection import train_test_split"
      ]
    },
    {
      "cell_type": "code",
      "source": [
        "from google.colab import drive\n",
        "drive.mount('/content/drive')"
      ],
      "metadata": {
        "colab": {
          "base_uri": "https://localhost:8080/"
        },
        "id": "xSetk_fg412Q",
        "outputId": "1fa9a438-b155-4bd6-8f67-3925cf292432"
      },
      "execution_count": null,
      "outputs": [
        {
          "output_type": "stream",
          "name": "stdout",
          "text": [
            "Mounted at /content/drive\n"
          ]
        }
      ]
    },
    {
      "cell_type": "code",
      "execution_count": null,
      "metadata": {
        "colab": {
          "base_uri": "https://localhost:8080/",
          "height": 206
        },
        "id": "Rg2kTXc12Xvo",
        "outputId": "0904d58e-b212-4e2c-df0e-df7af3d27373"
      },
      "outputs": [
        {
          "output_type": "execute_result",
          "data": {
            "text/plain": [
              "      image_id  healthy  multiple_diseases  rust  scab\n",
              "0  Train_0.jpg        0                  0     0     1\n",
              "1  Train_1.jpg        0                  1     0     0\n",
              "2  Train_2.jpg        1                  0     0     0\n",
              "3  Train_3.jpg        0                  0     1     0\n",
              "4  Train_4.jpg        1                  0     0     0"
            ],
            "text/html": [
              "\n",
              "  <div id=\"df-11cc1791-9192-4576-b5a0-db0a34e91a0f\">\n",
              "    <div class=\"colab-df-container\">\n",
              "      <div>\n",
              "<style scoped>\n",
              "    .dataframe tbody tr th:only-of-type {\n",
              "        vertical-align: middle;\n",
              "    }\n",
              "\n",
              "    .dataframe tbody tr th {\n",
              "        vertical-align: top;\n",
              "    }\n",
              "\n",
              "    .dataframe thead th {\n",
              "        text-align: right;\n",
              "    }\n",
              "</style>\n",
              "<table border=\"1\" class=\"dataframe\">\n",
              "  <thead>\n",
              "    <tr style=\"text-align: right;\">\n",
              "      <th></th>\n",
              "      <th>image_id</th>\n",
              "      <th>healthy</th>\n",
              "      <th>multiple_diseases</th>\n",
              "      <th>rust</th>\n",
              "      <th>scab</th>\n",
              "    </tr>\n",
              "  </thead>\n",
              "  <tbody>\n",
              "    <tr>\n",
              "      <th>0</th>\n",
              "      <td>Train_0.jpg</td>\n",
              "      <td>0</td>\n",
              "      <td>0</td>\n",
              "      <td>0</td>\n",
              "      <td>1</td>\n",
              "    </tr>\n",
              "    <tr>\n",
              "      <th>1</th>\n",
              "      <td>Train_1.jpg</td>\n",
              "      <td>0</td>\n",
              "      <td>1</td>\n",
              "      <td>0</td>\n",
              "      <td>0</td>\n",
              "    </tr>\n",
              "    <tr>\n",
              "      <th>2</th>\n",
              "      <td>Train_2.jpg</td>\n",
              "      <td>1</td>\n",
              "      <td>0</td>\n",
              "      <td>0</td>\n",
              "      <td>0</td>\n",
              "    </tr>\n",
              "    <tr>\n",
              "      <th>3</th>\n",
              "      <td>Train_3.jpg</td>\n",
              "      <td>0</td>\n",
              "      <td>0</td>\n",
              "      <td>1</td>\n",
              "      <td>0</td>\n",
              "    </tr>\n",
              "    <tr>\n",
              "      <th>4</th>\n",
              "      <td>Train_4.jpg</td>\n",
              "      <td>1</td>\n",
              "      <td>0</td>\n",
              "      <td>0</td>\n",
              "      <td>0</td>\n",
              "    </tr>\n",
              "  </tbody>\n",
              "</table>\n",
              "</div>\n",
              "      <button class=\"colab-df-convert\" onclick=\"convertToInteractive('df-11cc1791-9192-4576-b5a0-db0a34e91a0f')\"\n",
              "              title=\"Convert this dataframe to an interactive table.\"\n",
              "              style=\"display:none;\">\n",
              "        \n",
              "  <svg xmlns=\"http://www.w3.org/2000/svg\" height=\"24px\"viewBox=\"0 0 24 24\"\n",
              "       width=\"24px\">\n",
              "    <path d=\"M0 0h24v24H0V0z\" fill=\"none\"/>\n",
              "    <path d=\"M18.56 5.44l.94 2.06.94-2.06 2.06-.94-2.06-.94-.94-2.06-.94 2.06-2.06.94zm-11 1L8.5 8.5l.94-2.06 2.06-.94-2.06-.94L8.5 2.5l-.94 2.06-2.06.94zm10 10l.94 2.06.94-2.06 2.06-.94-2.06-.94-.94-2.06-.94 2.06-2.06.94z\"/><path d=\"M17.41 7.96l-1.37-1.37c-.4-.4-.92-.59-1.43-.59-.52 0-1.04.2-1.43.59L10.3 9.45l-7.72 7.72c-.78.78-.78 2.05 0 2.83L4 21.41c.39.39.9.59 1.41.59.51 0 1.02-.2 1.41-.59l7.78-7.78 2.81-2.81c.8-.78.8-2.07 0-2.86zM5.41 20L4 18.59l7.72-7.72 1.47 1.35L5.41 20z\"/>\n",
              "  </svg>\n",
              "      </button>\n",
              "      \n",
              "  <style>\n",
              "    .colab-df-container {\n",
              "      display:flex;\n",
              "      flex-wrap:wrap;\n",
              "      gap: 12px;\n",
              "    }\n",
              "\n",
              "    .colab-df-convert {\n",
              "      background-color: #E8F0FE;\n",
              "      border: none;\n",
              "      border-radius: 50%;\n",
              "      cursor: pointer;\n",
              "      display: none;\n",
              "      fill: #1967D2;\n",
              "      height: 32px;\n",
              "      padding: 0 0 0 0;\n",
              "      width: 32px;\n",
              "    }\n",
              "\n",
              "    .colab-df-convert:hover {\n",
              "      background-color: #E2EBFA;\n",
              "      box-shadow: 0px 1px 2px rgba(60, 64, 67, 0.3), 0px 1px 3px 1px rgba(60, 64, 67, 0.15);\n",
              "      fill: #174EA6;\n",
              "    }\n",
              "\n",
              "    [theme=dark] .colab-df-convert {\n",
              "      background-color: #3B4455;\n",
              "      fill: #D2E3FC;\n",
              "    }\n",
              "\n",
              "    [theme=dark] .colab-df-convert:hover {\n",
              "      background-color: #434B5C;\n",
              "      box-shadow: 0px 1px 3px 1px rgba(0, 0, 0, 0.15);\n",
              "      filter: drop-shadow(0px 1px 2px rgba(0, 0, 0, 0.3));\n",
              "      fill: #FFFFFF;\n",
              "    }\n",
              "  </style>\n",
              "\n",
              "      <script>\n",
              "        const buttonEl =\n",
              "          document.querySelector('#df-11cc1791-9192-4576-b5a0-db0a34e91a0f button.colab-df-convert');\n",
              "        buttonEl.style.display =\n",
              "          google.colab.kernel.accessAllowed ? 'block' : 'none';\n",
              "\n",
              "        async function convertToInteractive(key) {\n",
              "          const element = document.querySelector('#df-11cc1791-9192-4576-b5a0-db0a34e91a0f');\n",
              "          const dataTable =\n",
              "            await google.colab.kernel.invokeFunction('convertToInteractive',\n",
              "                                                     [key], {});\n",
              "          if (!dataTable) return;\n",
              "\n",
              "          const docLinkHtml = 'Like what you see? Visit the ' +\n",
              "            '<a target=\"_blank\" href=https://colab.research.google.com/notebooks/data_table.ipynb>data table notebook</a>'\n",
              "            + ' to learn more about interactive tables.';\n",
              "          element.innerHTML = '';\n",
              "          dataTable['output_type'] = 'display_data';\n",
              "          await google.colab.output.renderOutput(dataTable, element);\n",
              "          const docLink = document.createElement('div');\n",
              "          docLink.innerHTML = docLinkHtml;\n",
              "          element.appendChild(docLink);\n",
              "        }\n",
              "      </script>\n",
              "    </div>\n",
              "  </div>\n",
              "  "
            ]
          },
          "metadata": {},
          "execution_count": 3
        }
      ],
      "source": [
        "train = pd.read_csv(\"/content/drive/MyDrive/NhanDang/NeuralNetwork/Plant-Pathology-2020---FGVC7-master/train.csv\")\n",
        "# train = pd.read_csv('train.csv')\n",
        "test = pd.read_csv(\"/content/drive/MyDrive/NhanDang/NeuralNetwork/Plant-Pathology-2020---FGVC7-master/test.csv\")\n",
        "\n",
        "# test = pd.read_csv('test.csv')\n",
        "\n",
        "train['image_id'] = train['image_id']+'.jpg'\n",
        "test['image_id'] = test['image_id'] +'.jpg'\n",
        "\n",
        "train.head()"
      ]
    },
    {
      "cell_type": "code",
      "source": [
        "train.shape"
      ],
      "metadata": {
        "colab": {
          "base_uri": "https://localhost:8080/"
        },
        "id": "e0QqrRWsBJXc",
        "outputId": "c5a9ca27-8855-44a1-e40a-13fd0dabb20e"
      },
      "execution_count": null,
      "outputs": [
        {
          "output_type": "execute_result",
          "data": {
            "text/plain": [
              "(1821, 5)"
            ]
          },
          "metadata": {},
          "execution_count": 5
        }
      ]
    },
    {
      "cell_type": "code",
      "execution_count": null,
      "metadata": {
        "id": "oRj20BlU2Xvr"
      },
      "outputs": [],
      "source": [
        "img=[]\n",
        "filename=train.image_id\n",
        "for file in filename:\n",
        "    image=cv2.imread(\"/content/drive/MyDrive/NhanDang/NeuralNetwork/Plant-Pathology-2020---FGVC7-master/images/\"+file)\n",
        "    res=cv2.resize(image,(256,256))\n",
        "    img.append(res)\n",
        "img=np.array(img)"
      ]
    },
    {
      "cell_type": "code",
      "execution_count": null,
      "metadata": {
        "id": "SpxrPYZL2Xvs",
        "outputId": "8ba88ad2-1c67-4b6d-978c-11330ce1e47d",
        "colab": {
          "base_uri": "https://localhost:8080/"
        }
      },
      "outputs": [
        {
          "output_type": "execute_result",
          "data": {
            "text/plain": [
              "(1821, 256, 256, 3)"
            ]
          },
          "metadata": {},
          "execution_count": 13
        }
      ],
      "source": [
        "img.shape"
      ]
    },
    {
      "cell_type": "code",
      "execution_count": null,
      "metadata": {
        "id": "qiZLQ_SU2Xvv"
      },
      "outputs": [],
      "source": [
        "train_labels = np.float32(train.loc[:, 'healthy':'scab'].values)"
      ]
    },
    {
      "cell_type": "code",
      "execution_count": null,
      "metadata": {
        "id": "If6u_CgL2Xvv",
        "outputId": "2eb432c1-7945-4a7f-d741-863cc0c7faf9",
        "colab": {
          "base_uri": "https://localhost:8080/"
        }
      },
      "outputs": [
        {
          "output_type": "execute_result",
          "data": {
            "text/plain": [
              "(1821, 4)"
            ]
          },
          "metadata": {},
          "execution_count": 31
        }
      ],
      "source": [
        "train_labels.shape"
      ]
    },
    {
      "cell_type": "code",
      "execution_count": null,
      "metadata": {
        "id": "WNE9XssW2Xvw"
      },
      "outputs": [],
      "source": [
        "train, val = train_test_split(train, test_size = 0.15)"
      ]
    },
    {
      "cell_type": "code",
      "source": [
        "print(train.shape)"
      ],
      "metadata": {
        "colab": {
          "base_uri": "https://localhost:8080/"
        },
        "id": "TzLqS42oHXWg",
        "outputId": "74eb784c-2c34-453a-fda2-3c673a4daf3a"
      },
      "execution_count": null,
      "outputs": [
        {
          "output_type": "stream",
          "name": "stdout",
          "text": [
            "(1547, 5)\n"
          ]
        }
      ]
    },
    {
      "cell_type": "code",
      "execution_count": null,
      "metadata": {
        "id": "Fjqj_PbC2Xvx"
      },
      "outputs": [],
      "source": [
        "from keras.preprocessing.image import ImageDataGenerator\n",
        "train_datagen = ImageDataGenerator( \n",
        "    horizontal_flip=True,\n",
        "    vertical_flip=True,\n",
        "    rotation_range=10,\n",
        "    width_shift_range=0.1,\n",
        "    height_shift_range=0.1,\n",
        "    zoom_range=.1,\n",
        "    fill_mode='nearest',\n",
        "    shear_range=0.1,\n",
        "    rescale=1/255,\n",
        "    brightness_range=[0.5, 1.5])"
      ]
    },
    {
      "cell_type": "code",
      "execution_count": null,
      "metadata": {
        "id": "v90-M0a32Xvy",
        "outputId": "c1dc5e9a-e65b-4f7f-832f-9b6f034ef970",
        "colab": {
          "base_uri": "https://localhost:8080/"
        }
      },
      "outputs": [
        {
          "output_type": "stream",
          "name": "stdout",
          "text": [
            "Found 1547 validated image filenames.\n"
          ]
        }
      ],
      "source": [
        "train_generator = train_datagen.flow_from_dataframe(\n",
        "                    train, directory = '/content/drive/MyDrive/NhanDang/NeuralNetwork/Plant-Pathology-2020---FGVC7-master/images/',\n",
        "\n",
        "                    target_size = (128,128),\n",
        "                    x_col = 'image_id',\n",
        "                    y_col = ['healthy','multiple_diseases','rust','scab'],\n",
        "                    class_mode='raw',\n",
        "                    shuffle=False,\n",
        "                    subset='training',\n",
        "                    batch_size = 16\n",
        ")"
      ]
    },
    {
      "cell_type": "code",
      "execution_count": null,
      "metadata": {
        "id": "j-PH6CQZ2Xvy",
        "outputId": "696a3777-4aff-48ff-db29-12c4ac3c53aa",
        "colab": {
          "base_uri": "https://localhost:8080/"
        }
      },
      "outputs": [
        {
          "output_type": "stream",
          "name": "stdout",
          "text": [
            "Found 274 validated image filenames.\n"
          ]
        }
      ],
      "source": [
        "val_generator=train_datagen.flow_from_dataframe(val,directory='/content/drive/MyDrive/NhanDang/NeuralNetwork/Plant-Pathology-2020---FGVC7-master/images/',\n",
        "                                                      target_size=(128,128),\n",
        "                                                      x_col=\"image_id\",\n",
        "                                                      y_col=['healthy','multiple_diseases','rust','scab'],\n",
        "                                                      class_mode='raw',\n",
        "                                                      shuffle=False,\n",
        "                                                      batch_size=16,\n",
        "                                                  )"
      ]
    },
    {
      "cell_type": "code",
      "execution_count": null,
      "metadata": {
        "id": "WUJooKNl2Xvz",
        "outputId": "005c9360-cb3f-4c1f-b57c-4427802af4ea",
        "colab": {
          "base_uri": "https://localhost:8080/"
        }
      },
      "outputs": [
        {
          "output_type": "stream",
          "name": "stdout",
          "text": [
            "Found 1821 validated image filenames.\n"
          ]
        }
      ],
      "source": [
        "test_generator=train_datagen.flow_from_dataframe(test,directory='/content/drive/MyDrive/NhanDang/NeuralNetwork/Plant-Pathology-2020---FGVC7-master/images/',\n",
        "                                                      target_size=(128,128),\n",
        "                                                      x_col=\"image_id\",\n",
        "                                                      y_col=None,\n",
        "                                                      class_mode=None,\n",
        "                                                      shuffle=False,\n",
        "                                                      batch_size=16)"
      ]
    },
    {
      "cell_type": "code",
      "execution_count": null,
      "metadata": {
        "id": "e3eUwhPX2Xv0"
      },
      "outputs": [],
      "source": [
        "from keras.applications.densenet import DenseNet121\n",
        "from keras.models import Model\n",
        "import keras\n",
        "from keras import optimizers\n",
        "\n",
        "import tensorflow as tf"
      ]
    },
    {
      "cell_type": "code",
      "execution_count": null,
      "metadata": {
        "id": "QDyy0D1t2Xv0"
      },
      "outputs": [],
      "source": [
        "# imagenet --> none\n",
        "pretrained_model = DenseNet121(include_top=False, weights='imagenet', input_shape=(128,128,3))\n",
        "# include_top = True -- full connected neural network"
      ]
    },
    {
      "cell_type": "code",
      "execution_count": null,
      "metadata": {
        "id": "D3UmAc3i2Xv0"
      },
      "outputs": [],
      "source": [
        "model = tf.keras.Sequential([\n",
        "    pretrained_model,\n",
        "    # --> maxpooling2D\n",
        "    tf.keras.layers.GlobalAveragePooling2D(),\n",
        "    #  --> droout --> [0.3- 0.5]\n",
        "    tf.keras.layers.Dropout(0.3),\n",
        "    # thêm layer vào đây nếu thích hợp\n",
        "    tf.keras.layers.Dense(4, activation='softmax')  \n",
        "    ])"
      ]
    },
    {
      "cell_type": "code",
      "execution_count": null,
      "metadata": {
        "id": "yP9tk4In2Xv1"
      },
      "outputs": [],
      "source": [
        "model.compile(\n",
        "    # thay Adam --> vài hàm khác để chạy thử như thế\n",
        "    optimizer=tf.keras.optimizers.Adam(),\n",
        "    loss= tf.keras.losses.CategoricalCrossentropy(from_logits=True),\n",
        "    metrics=['acc']\n",
        ")"
      ]
    },
    {
      "cell_type": "code",
      "execution_count": null,
      "metadata": {
        "id": "VH96ZZhH2Xv2",
        "outputId": "eab0bb62-a6ee-4c44-e083-ad7adeff37a9",
        "colab": {
          "base_uri": "https://localhost:8080/"
        }
      },
      "outputs": [
        {
          "output_type": "stream",
          "name": "stdout",
          "text": [
            "Model: \"sequential\"\n",
            "_________________________________________________________________\n",
            " Layer (type)                Output Shape              Param #   \n",
            "=================================================================\n",
            " densenet121 (Functional)    (None, 4, 4, 1024)        7037504   \n",
            "                                                                 \n",
            " global_average_pooling2d (G  (None, 1024)             0         \n",
            " lobalAveragePooling2D)                                          \n",
            "                                                                 \n",
            " dropout (Dropout)           (None, 1024)              0         \n",
            "                                                                 \n",
            " dense (Dense)               (None, 4)                 4100      \n",
            "                                                                 \n",
            "=================================================================\n",
            "Total params: 7,041,604\n",
            "Trainable params: 6,957,956\n",
            "Non-trainable params: 83,648\n",
            "_________________________________________________________________\n"
          ]
        }
      ],
      "source": [
        "model.summary()"
      ]
    },
    {
      "cell_type": "code",
      "execution_count": null,
      "metadata": {
        "id": "XONK0DJq2Xv3"
      },
      "outputs": [],
      "source": [
        "from keras.callbacks import ReduceLROnPlateau"
      ]
    },
    {
      "cell_type": "code",
      "execution_count": null,
      "metadata": {
        "id": "oj3Ruu4H2Xv5",
        "outputId": "7852610b-51c0-4ee6-e3dc-bfffca892f9d",
        "colab": {
          "base_uri": "https://localhost:8080/"
        }
      },
      "outputs": [
        {
          "metadata": {
            "tags": null
          },
          "name": "stderr",
          "output_type": "stream",
          "text": [
            "/usr/local/lib/python3.7/dist-packages/ipykernel_launcher.py:8: UserWarning: `Model.fit_generator` is deprecated and will be removed in a future version. Please use `Model.fit`, which supports generators.\n",
            "  \n"
          ]
        },
        {
          "metadata": {
            "tags": null
          },
          "name": "stdout",
          "output_type": "stream",
          "text": [
            "Epoch 1/150\n"
          ]
        },
        {
          "metadata": {
            "tags": null
          },
          "name": "stderr",
          "output_type": "stream",
          "text": [
            "/usr/local/lib/python3.7/dist-packages/tensorflow/python/util/dispatch.py:1082: UserWarning: \"`categorical_crossentropy` received `from_logits=True`, but the `output` argument was produced by a sigmoid or softmax activation and thus does not represent logits. Was this intended?\"\n",
            "  return dispatch_target(*args, **kwargs)\n"
          ]
        },
        {
          "output_type": "stream",
          "name": "stdout",
          "text": [
            "10/10 [==============================] - 40s 2s/step - loss: 1.7537 - acc: 0.4750 - val_loss: 3.0246 - val_acc: 0.3650\n",
            "Epoch 2/150\n",
            "10/10 [==============================] - 17s 2s/step - loss: 1.0237 - acc: 0.6625 - val_loss: 117.7818 - val_acc: 0.2701\n",
            "Epoch 3/150\n",
            "10/10 [==============================] - 17s 2s/step - loss: 1.0094 - acc: 0.7000 - val_loss: 411.9474 - val_acc: 0.2701\n",
            "Epoch 4/150\n",
            "10/10 [==============================] - 17s 2s/step - loss: 0.7401 - acc: 0.7375 - val_loss: 897.4506 - val_acc: 0.2701\n",
            "Epoch 5/150\n",
            "10/10 [==============================] - 17s 2s/step - loss: 0.7377 - acc: 0.7500 - val_loss: 256.1422 - val_acc: 0.2701\n",
            "Epoch 6/150\n",
            "10/10 [==============================] - 17s 2s/step - loss: 0.8478 - acc: 0.7563 - val_loss: 91.0972 - val_acc: 0.3029\n",
            "Epoch 7/150\n",
            "10/10 [==============================] - 17s 2s/step - loss: 0.6295 - acc: 0.7625 - val_loss: 89.1097 - val_acc: 0.3321\n",
            "Epoch 8/150\n",
            "10/10 [==============================] - 17s 2s/step - loss: 0.6483 - acc: 0.8188 - val_loss: 7.6776 - val_acc: 0.3650\n",
            "Epoch 9/150\n",
            "10/10 [==============================] - 17s 2s/step - loss: 0.4748 - acc: 0.8375 - val_loss: 31.7400 - val_acc: 0.2263\n",
            "Epoch 10/150\n",
            "10/10 [==============================] - 18s 2s/step - loss: 0.4645 - acc: 0.8387 - val_loss: 45.3759 - val_acc: 0.2956\n",
            "Epoch 11/150\n",
            "10/10 [==============================] - 17s 2s/step - loss: 0.5951 - acc: 0.8062 - val_loss: 50.8785 - val_acc: 0.2956\n",
            "Epoch 12/150\n",
            "10/10 [==============================] - 17s 2s/step - loss: 0.6200 - acc: 0.8125 - val_loss: 56.8009 - val_acc: 0.3212\n",
            "Epoch 13/150\n",
            "10/10 [==============================] - 17s 2s/step - loss: 0.5144 - acc: 0.8438 - val_loss: 26.8615 - val_acc: 0.3869\n",
            "Epoch 14/150\n",
            "10/10 [==============================] - 16s 2s/step - loss: 0.4819 - acc: 0.8323 - val_loss: 1.1975 - val_acc: 0.7664\n",
            "Epoch 15/150\n",
            "10/10 [==============================] - 17s 2s/step - loss: 0.2931 - acc: 0.9062 - val_loss: 0.9926 - val_acc: 0.7409\n",
            "Epoch 16/150\n",
            "10/10 [==============================] - 17s 2s/step - loss: 0.4051 - acc: 0.8813 - val_loss: 1.0207 - val_acc: 0.6642\n",
            "Epoch 17/150\n",
            "10/10 [==============================] - 17s 2s/step - loss: 0.7703 - acc: 0.8125 - val_loss: 3.0700 - val_acc: 0.6715\n",
            "Epoch 18/150\n",
            "10/10 [==============================] - 17s 2s/step - loss: 0.5448 - acc: 0.8125 - val_loss: 1.4536 - val_acc: 0.6715\n",
            "Epoch 19/150\n",
            "10/10 [==============================] - 17s 2s/step - loss: 0.4576 - acc: 0.8438 - val_loss: 2.0147 - val_acc: 0.5949\n",
            "Epoch 20/150\n",
            "10/10 [==============================] - 17s 2s/step - loss: 0.6750 - acc: 0.7625 - val_loss: 1.8720 - val_acc: 0.6277\n",
            "Epoch 21/150\n",
            "10/10 [==============================] - 17s 2s/step - loss: 0.5210 - acc: 0.8313 - val_loss: 1.6322 - val_acc: 0.6168\n",
            "Epoch 22/150\n",
            "10/10 [==============================] - 17s 2s/step - loss: 0.5003 - acc: 0.8375 - val_loss: 2.4311 - val_acc: 0.6241\n",
            "Epoch 23/150\n",
            "10/10 [==============================] - 17s 2s/step - loss: 0.6141 - acc: 0.8250 - val_loss: 1.8957 - val_acc: 0.6642\n",
            "Epoch 24/150\n",
            "10/10 [==============================] - 17s 2s/step - loss: 0.5189 - acc: 0.8562 - val_loss: 1.0613 - val_acc: 0.7153\n",
            "Epoch 25/150\n",
            "10/10 [==============================] - 17s 2s/step - loss: 0.5803 - acc: 0.7875 - val_loss: 0.9522 - val_acc: 0.7409\n",
            "Epoch 26/150\n",
            "10/10 [==============================] - 17s 2s/step - loss: 0.3773 - acc: 0.8750 - val_loss: 1.0885 - val_acc: 0.5401\n",
            "Epoch 27/150\n",
            "10/10 [==============================] - 17s 2s/step - loss: 0.3717 - acc: 0.8750 - val_loss: 0.7742 - val_acc: 0.8577\n",
            "Epoch 28/150\n",
            "10/10 [==============================] - 17s 2s/step - loss: 0.4305 - acc: 0.8938 - val_loss: 0.9620 - val_acc: 0.8321\n",
            "Epoch 29/150\n",
            "10/10 [==============================] - 17s 2s/step - loss: 0.4696 - acc: 0.8875 - val_loss: 1.1494 - val_acc: 0.7920\n",
            "Epoch 30/150\n",
            "10/10 [==============================] - 17s 2s/step - loss: 0.4224 - acc: 0.8562 - val_loss: 0.5666 - val_acc: 0.8321\n",
            "Epoch 31/150\n",
            "10/10 [==============================] - 17s 2s/step - loss: 0.3824 - acc: 0.9032 - val_loss: 0.5143 - val_acc: 0.8504\n",
            "Epoch 32/150\n",
            "10/10 [==============================] - 17s 2s/step - loss: 0.5262 - acc: 0.8313 - val_loss: 1.3413 - val_acc: 0.7993\n",
            "Epoch 33/150\n",
            "10/10 [==============================] - 17s 2s/step - loss: 0.4143 - acc: 0.8813 - val_loss: 0.5463 - val_acc: 0.8723\n",
            "Epoch 34/150\n",
            "10/10 [==============================] - 17s 2s/step - loss: 0.3943 - acc: 0.8687 - val_loss: 0.4685 - val_acc: 0.8869\n",
            "Epoch 35/150\n",
            "10/10 [==============================] - 17s 2s/step - loss: 0.3770 - acc: 0.9000 - val_loss: 0.7017 - val_acc: 0.8358\n",
            "Epoch 36/150\n",
            "10/10 [==============================] - 17s 2s/step - loss: 0.2624 - acc: 0.9125 - val_loss: 0.7779 - val_acc: 0.7993\n",
            "Epoch 37/150\n",
            "10/10 [==============================] - 17s 2s/step - loss: 0.3778 - acc: 0.8903 - val_loss: 0.6112 - val_acc: 0.7664\n",
            "Epoch 38/150\n",
            "10/10 [==============================] - 17s 2s/step - loss: 0.3020 - acc: 0.9187 - val_loss: 0.3684 - val_acc: 0.9051\n",
            "Epoch 39/150\n",
            "10/10 [==============================] - 17s 2s/step - loss: 0.2830 - acc: 0.8968 - val_loss: 0.5069 - val_acc: 0.8759\n",
            "Epoch 40/150\n",
            "10/10 [==============================] - 17s 2s/step - loss: 0.3424 - acc: 0.8875 - val_loss: 0.9830 - val_acc: 0.8248\n",
            "Epoch 41/150\n",
            "10/10 [==============================] - 17s 2s/step - loss: 0.3336 - acc: 0.8813 - val_loss: 0.5943 - val_acc: 0.8467\n",
            "Epoch 42/150\n",
            "10/10 [==============================] - 17s 2s/step - loss: 0.3554 - acc: 0.8500 - val_loss: 0.6029 - val_acc: 0.8540\n",
            "Epoch 43/150\n",
            "10/10 [==============================] - 17s 2s/step - loss: 0.2912 - acc: 0.9000 - val_loss: 0.5876 - val_acc: 0.8869\n",
            "Epoch 44/150\n",
            "10/10 [==============================] - 17s 2s/step - loss: 0.5089 - acc: 0.8313 - val_loss: 1.7566 - val_acc: 0.7372\n",
            "Epoch 45/150\n",
            "10/10 [==============================] - 17s 2s/step - loss: 0.4962 - acc: 0.8375 - val_loss: 3.8302 - val_acc: 0.6241\n",
            "Epoch 46/150\n",
            "10/10 [==============================] - 17s 2s/step - loss: 0.3284 - acc: 0.9062 - val_loss: 1.4951 - val_acc: 0.7299\n",
            "Epoch 47/150\n",
            "10/10 [==============================] - 17s 2s/step - loss: 0.2453 - acc: 0.8813 - val_loss: 0.7109 - val_acc: 0.8686\n",
            "Epoch 48/150\n",
            "10/10 [==============================] - 17s 2s/step - loss: 0.3325 - acc: 0.9000 - val_loss: 0.7099 - val_acc: 0.8613\n",
            "Epoch 49/150\n",
            "10/10 [==============================] - 17s 2s/step - loss: 0.4437 - acc: 0.8375 - val_loss: 0.6122 - val_acc: 0.8504\n",
            "Epoch 50/150\n",
            "10/10 [==============================] - 17s 2s/step - loss: 0.2427 - acc: 0.9187 - val_loss: 0.6642 - val_acc: 0.8723\n",
            "Epoch 51/150\n",
            "10/10 [==============================] - 17s 2s/step - loss: 0.5160 - acc: 0.8375 - val_loss: 0.5071 - val_acc: 0.8577\n",
            "Epoch 52/150\n",
            "10/10 [==============================] - 17s 2s/step - loss: 0.2800 - acc: 0.9250 - val_loss: 0.9599 - val_acc: 0.7080\n",
            "Epoch 53/150\n",
            "10/10 [==============================] - 17s 2s/step - loss: 0.2611 - acc: 0.9125 - val_loss: 0.5641 - val_acc: 0.8248\n",
            "Epoch 54/150\n",
            "10/10 [==============================] - 17s 2s/step - loss: 0.3422 - acc: 0.8938 - val_loss: 0.4525 - val_acc: 0.8759\n",
            "Epoch 55/150\n",
            "10/10 [==============================] - 17s 2s/step - loss: 0.3729 - acc: 0.8813 - val_loss: 0.5807 - val_acc: 0.8467\n",
            "Epoch 56/150\n",
            "10/10 [==============================] - 17s 2s/step - loss: 0.2966 - acc: 0.8875 - val_loss: 0.6374 - val_acc: 0.7956\n",
            "Epoch 57/150\n",
            "10/10 [==============================] - 17s 2s/step - loss: 0.2194 - acc: 0.9125 - val_loss: 0.4229 - val_acc: 0.8504\n",
            "Epoch 58/150\n",
            "10/10 [==============================] - 17s 2s/step - loss: 0.4207 - acc: 0.8750 - val_loss: 1.0417 - val_acc: 0.7628\n",
            "Epoch 59/150\n",
            "10/10 [==============================] - 17s 2s/step - loss: 0.4649 - acc: 0.8813 - val_loss: 1.4602 - val_acc: 0.6496\n",
            "Epoch 60/150\n",
            "10/10 [==============================] - 17s 2s/step - loss: 0.3515 - acc: 0.8687 - val_loss: 0.6245 - val_acc: 0.8358\n",
            "Epoch 61/150\n",
            "10/10 [==============================] - 17s 2s/step - loss: 0.3037 - acc: 0.8938 - val_loss: 0.6679 - val_acc: 0.8905\n",
            "Epoch 62/150\n",
            "10/10 [==============================] - 17s 2s/step - loss: 0.2585 - acc: 0.9161 - val_loss: 0.6314 - val_acc: 0.8686\n",
            "Epoch 63/150\n",
            "10/10 [==============================] - 17s 2s/step - loss: 0.5384 - acc: 0.8438 - val_loss: 1.2416 - val_acc: 0.6752\n",
            "Epoch 64/150\n",
            "10/10 [==============================] - 17s 2s/step - loss: 0.3582 - acc: 0.9000 - val_loss: 1.6862 - val_acc: 0.6533\n",
            "Epoch 65/150\n",
            "10/10 [==============================] - 17s 2s/step - loss: 0.2886 - acc: 0.9032 - val_loss: 1.2968 - val_acc: 0.6131\n",
            "Epoch 66/150\n",
            "10/10 [==============================] - 17s 2s/step - loss: 0.3390 - acc: 0.8938 - val_loss: 0.7083 - val_acc: 0.7774\n",
            "Epoch 67/150\n",
            "10/10 [==============================] - 17s 2s/step - loss: 0.3445 - acc: 0.8813 - val_loss: 0.5816 - val_acc: 0.7956\n",
            "Epoch 68/150\n",
            "10/10 [==============================] - 17s 2s/step - loss: 0.2474 - acc: 0.9187 - val_loss: 0.6341 - val_acc: 0.8467\n",
            "Epoch 69/150\n",
            "10/10 [==============================] - 17s 2s/step - loss: 0.2481 - acc: 0.9062 - val_loss: 0.5746 - val_acc: 0.8540\n",
            "Epoch 70/150\n",
            "10/10 [==============================] - 17s 2s/step - loss: 0.3732 - acc: 0.9062 - val_loss: 0.5786 - val_acc: 0.8139\n",
            "Epoch 71/150\n",
            "10/10 [==============================] - 17s 2s/step - loss: 0.3243 - acc: 0.8875 - val_loss: 0.5444 - val_acc: 0.8358\n",
            "Epoch 72/150\n",
            "10/10 [==============================] - 17s 2s/step - loss: 0.2683 - acc: 0.9187 - val_loss: 0.5143 - val_acc: 0.8832\n",
            "Epoch 73/150\n",
            "10/10 [==============================] - 17s 2s/step - loss: 0.1897 - acc: 0.9375 - val_loss: 0.4862 - val_acc: 0.8650\n",
            "Epoch 74/150\n",
            "10/10 [==============================] - 16s 2s/step - loss: 0.3853 - acc: 0.8774 - val_loss: 0.7663 - val_acc: 0.8540\n",
            "Epoch 75/150\n",
            "10/10 [==============================] - 17s 2s/step - loss: 0.1898 - acc: 0.9438 - val_loss: 0.8574 - val_acc: 0.8686\n",
            "Epoch 76/150\n",
            "10/10 [==============================] - 17s 2s/step - loss: 0.3981 - acc: 0.8687 - val_loss: 1.0685 - val_acc: 0.7044\n",
            "Epoch 77/150\n",
            "10/10 [==============================] - 17s 2s/step - loss: 0.4005 - acc: 0.8687 - val_loss: 1.1639 - val_acc: 0.7117\n",
            "Epoch 78/150\n",
            "10/10 [==============================] - 17s 2s/step - loss: 0.2686 - acc: 0.9062 - val_loss: 0.8210 - val_acc: 0.8321\n",
            "Epoch 79/150\n",
            "10/10 [==============================] - 17s 2s/step - loss: 0.3364 - acc: 0.9250 - val_loss: 0.5747 - val_acc: 0.8504\n",
            "Epoch 80/150\n",
            "10/10 [==============================] - 17s 2s/step - loss: 0.2673 - acc: 0.9187 - val_loss: 0.5345 - val_acc: 0.8431\n",
            "Epoch 81/150\n",
            "10/10 [==============================] - 17s 2s/step - loss: 0.1750 - acc: 0.9438 - val_loss: 0.7677 - val_acc: 0.8321\n",
            "Epoch 82/150\n",
            "10/10 [==============================] - 22s 2s/step - loss: 0.3449 - acc: 0.8687 - val_loss: 0.4625 - val_acc: 0.8613\n",
            "Epoch 83/150\n",
            "10/10 [==============================] - 18s 2s/step - loss: 0.2206 - acc: 0.9250 - val_loss: 1.2126 - val_acc: 0.7153\n",
            "Epoch 84/150\n",
            "10/10 [==============================] - 17s 2s/step - loss: 0.2417 - acc: 0.9125 - val_loss: 1.1972 - val_acc: 0.8431\n",
            "Epoch 85/150\n",
            "10/10 [==============================] - 17s 2s/step - loss: 0.3001 - acc: 0.9000 - val_loss: 1.2553 - val_acc: 0.8248\n",
            "Epoch 86/150\n",
            "10/10 [==============================] - 17s 2s/step - loss: 0.3408 - acc: 0.8875 - val_loss: 0.6178 - val_acc: 0.8175\n",
            "Epoch 87/150\n",
            "10/10 [==============================] - 18s 2s/step - loss: 0.3168 - acc: 0.9062 - val_loss: 0.9427 - val_acc: 0.8321\n",
            "Epoch 88/150\n",
            "10/10 [==============================] - 17s 2s/step - loss: 0.3338 - acc: 0.8687 - val_loss: 0.6030 - val_acc: 0.8212\n",
            "Epoch 89/150\n",
            "10/10 [==============================] - 17s 2s/step - loss: 0.3265 - acc: 0.8687 - val_loss: 0.6152 - val_acc: 0.8577\n",
            "Epoch 90/150\n",
            "10/10 [==============================] - 17s 2s/step - loss: 0.3431 - acc: 0.8839 - val_loss: 0.7327 - val_acc: 0.8577\n",
            "Epoch 91/150\n",
            "10/10 [==============================] - 17s 2s/step - loss: 0.2891 - acc: 0.8938 - val_loss: 0.7719 - val_acc: 0.8285\n",
            "Epoch 92/150\n",
            "10/10 [==============================] - 17s 2s/step - loss: 0.1415 - acc: 0.9500 - val_loss: 0.4329 - val_acc: 0.8650\n",
            "Epoch 93/150\n",
            "10/10 [==============================] - 17s 2s/step - loss: 0.2181 - acc: 0.9250 - val_loss: 0.6907 - val_acc: 0.7701\n",
            "Epoch 94/150\n",
            "10/10 [==============================] - 17s 2s/step - loss: 0.5140 - acc: 0.8516 - val_loss: 0.5563 - val_acc: 0.8577\n",
            "Epoch 95/150\n",
            "10/10 [==============================] - 17s 2s/step - loss: 0.3425 - acc: 0.9062 - val_loss: 0.6331 - val_acc: 0.8248\n",
            "Epoch 96/150\n",
            "10/10 [==============================] - 17s 2s/step - loss: 0.3733 - acc: 0.8813 - val_loss: 0.4475 - val_acc: 0.8358\n",
            "Epoch 97/150\n",
            "10/10 [==============================] - 17s 2s/step - loss: 0.3545 - acc: 0.8813 - val_loss: 0.7086 - val_acc: 0.7883\n",
            "Epoch 98/150\n",
            "10/10 [==============================] - 17s 2s/step - loss: 0.3201 - acc: 0.8938 - val_loss: 0.4109 - val_acc: 0.8832\n",
            "Epoch 99/150\n",
            "10/10 [==============================] - 17s 2s/step - loss: 0.2603 - acc: 0.9062 - val_loss: 0.8393 - val_acc: 0.8285\n",
            "Epoch 100/150\n",
            "10/10 [==============================] - 17s 2s/step - loss: 0.2584 - acc: 0.9000 - val_loss: 0.4844 - val_acc: 0.8650\n",
            "Epoch 101/150\n",
            "10/10 [==============================] - 17s 2s/step - loss: 0.2289 - acc: 0.9312 - val_loss: 0.5243 - val_acc: 0.8686\n",
            "Epoch 102/150\n",
            "10/10 [==============================] - 16s 2s/step - loss: 0.2524 - acc: 0.9097 - val_loss: 0.5698 - val_acc: 0.8723\n",
            "Epoch 103/150\n",
            "10/10 [==============================] - 17s 2s/step - loss: 0.2902 - acc: 0.8875 - val_loss: 0.5432 - val_acc: 0.8686\n",
            "Epoch 104/150\n",
            "10/10 [==============================] - 17s 2s/step - loss: 0.1807 - acc: 0.9548 - val_loss: 0.7955 - val_acc: 0.7920\n",
            "Epoch 105/150\n",
            "10/10 [==============================] - 17s 2s/step - loss: 0.1806 - acc: 0.9563 - val_loss: 0.7058 - val_acc: 0.8321\n",
            "Epoch 106/150\n",
            "10/10 [==============================] - 17s 2s/step - loss: 0.4521 - acc: 0.8562 - val_loss: 0.4171 - val_acc: 0.8942\n",
            "Epoch 107/150\n",
            "10/10 [==============================] - 17s 2s/step - loss: 0.2210 - acc: 0.9375 - val_loss: 0.4757 - val_acc: 0.8467\n",
            "Epoch 108/150\n",
            "10/10 [==============================] - 16s 2s/step - loss: 0.2222 - acc: 0.9250 - val_loss: 0.8789 - val_acc: 0.7956\n",
            "Epoch 109/150\n",
            "10/10 [==============================] - 17s 2s/step - loss: 0.0926 - acc: 0.9750 - val_loss: 0.4384 - val_acc: 0.8832\n",
            "Epoch 110/150\n",
            "10/10 [==============================] - 17s 2s/step - loss: 0.2539 - acc: 0.9438 - val_loss: 0.6099 - val_acc: 0.8467\n",
            "Epoch 111/150\n",
            "10/10 [==============================] - 17s 2s/step - loss: 0.2869 - acc: 0.9062 - val_loss: 0.6353 - val_acc: 0.8978\n",
            "Epoch 112/150\n",
            "10/10 [==============================] - 17s 2s/step - loss: 0.2292 - acc: 0.9062 - val_loss: 0.6002 - val_acc: 0.8577\n",
            "Epoch 113/150\n",
            "10/10 [==============================] - 17s 2s/step - loss: 0.1920 - acc: 0.9375 - val_loss: 1.5539 - val_acc: 0.6569\n",
            "Epoch 114/150\n",
            "10/10 [==============================] - 17s 2s/step - loss: 0.3303 - acc: 0.9125 - val_loss: 0.8507 - val_acc: 0.7628\n",
            "Epoch 115/150\n",
            "10/10 [==============================] - 17s 2s/step - loss: 0.1834 - acc: 0.9312 - val_loss: 0.6096 - val_acc: 0.8540\n",
            "Epoch 116/150\n",
            "10/10 [==============================] - 17s 2s/step - loss: 0.2342 - acc: 0.9250 - val_loss: 0.7099 - val_acc: 0.8248\n",
            "Epoch 117/150\n",
            "10/10 [==============================] - 17s 2s/step - loss: 0.3224 - acc: 0.9062 - val_loss: 0.6137 - val_acc: 0.8540\n",
            "Epoch 118/150\n",
            "10/10 [==============================] - 17s 2s/step - loss: 0.2002 - acc: 0.9375 - val_loss: 0.5958 - val_acc: 0.8650\n",
            "Epoch 119/150\n",
            "10/10 [==============================] - 17s 2s/step - loss: 0.2497 - acc: 0.9000 - val_loss: 0.3883 - val_acc: 0.8942\n",
            "Epoch 120/150\n",
            "10/10 [==============================] - 17s 2s/step - loss: 0.2856 - acc: 0.9000 - val_loss: 0.5979 - val_acc: 0.8504\n",
            "Epoch 121/150\n",
            "10/10 [==============================] - 17s 2s/step - loss: 0.2700 - acc: 0.9250 - val_loss: 0.5342 - val_acc: 0.8358\n",
            "Epoch 122/150\n",
            "10/10 [==============================] - 17s 2s/step - loss: 0.2796 - acc: 0.9062 - val_loss: 0.5410 - val_acc: 0.8321\n",
            "Epoch 123/150\n",
            "10/10 [==============================] - 17s 2s/step - loss: 0.1988 - acc: 0.9484 - val_loss: 1.0902 - val_acc: 0.7883\n",
            "Epoch 124/150\n",
            "10/10 [==============================] - 17s 2s/step - loss: 0.3313 - acc: 0.8813 - val_loss: 0.5184 - val_acc: 0.8796\n",
            "Epoch 125/150\n",
            "10/10 [==============================] - 17s 2s/step - loss: 0.1451 - acc: 0.9563 - val_loss: 0.3998 - val_acc: 0.8978\n",
            "Epoch 126/150\n",
            "10/10 [==============================] - 17s 2s/step - loss: 0.2505 - acc: 0.9187 - val_loss: 0.4857 - val_acc: 0.8467\n",
            "Epoch 127/150\n",
            "10/10 [==============================] - 17s 2s/step - loss: 0.1651 - acc: 0.9438 - val_loss: 0.4960 - val_acc: 0.8613\n",
            "Epoch 128/150\n",
            "10/10 [==============================] - 17s 2s/step - loss: 0.3090 - acc: 0.8750 - val_loss: 0.6604 - val_acc: 0.8723\n",
            "Epoch 129/150\n",
            "10/10 [==============================] - 17s 2s/step - loss: 0.1419 - acc: 0.9563 - val_loss: 1.2514 - val_acc: 0.8358\n",
            "Epoch 130/150\n",
            "10/10 [==============================] - 17s 2s/step - loss: 0.2896 - acc: 0.9250 - val_loss: 1.2244 - val_acc: 0.8467\n",
            "Epoch 131/150\n",
            "10/10 [==============================] - 17s 2s/step - loss: 0.2577 - acc: 0.9187 - val_loss: 0.8838 - val_acc: 0.8394\n",
            "Epoch 132/150\n",
            "10/10 [==============================] - 17s 2s/step - loss: 0.3661 - acc: 0.8875 - val_loss: 0.8174 - val_acc: 0.8540\n",
            "Epoch 133/150\n",
            "10/10 [==============================] - 17s 2s/step - loss: 0.1538 - acc: 0.9438 - val_loss: 0.5255 - val_acc: 0.8431\n",
            "Epoch 134/150\n",
            "10/10 [==============================] - 17s 2s/step - loss: 0.1350 - acc: 0.9563 - val_loss: 0.8139 - val_acc: 0.8175\n",
            "Epoch 135/150\n",
            "10/10 [==============================] - 17s 2s/step - loss: 0.2974 - acc: 0.9250 - val_loss: 0.5792 - val_acc: 0.8212\n",
            "Epoch 136/150\n",
            "10/10 [==============================] - 17s 2s/step - loss: 0.2980 - acc: 0.9125 - val_loss: 0.5113 - val_acc: 0.8613\n",
            "Epoch 137/150\n",
            "10/10 [==============================] - 17s 2s/step - loss: 0.2598 - acc: 0.9032 - val_loss: 0.3850 - val_acc: 0.8869\n",
            "Epoch 138/150\n",
            "10/10 [==============================] - 17s 2s/step - loss: 0.2574 - acc: 0.9000 - val_loss: 0.4593 - val_acc: 0.8504\n",
            "Epoch 139/150\n",
            "10/10 [==============================] - 17s 2s/step - loss: 0.2595 - acc: 0.9000 - val_loss: 0.4616 - val_acc: 0.8431\n",
            "Epoch 140/150\n",
            "10/10 [==============================] - 17s 2s/step - loss: 0.2278 - acc: 0.9125 - val_loss: 0.4006 - val_acc: 0.8796\n",
            "Epoch 141/150\n",
            "10/10 [==============================] - 17s 2s/step - loss: 0.2065 - acc: 0.9438 - val_loss: 0.4339 - val_acc: 0.8832\n",
            "Epoch 142/150\n",
            "10/10 [==============================] - 17s 2s/step - loss: 0.1907 - acc: 0.9250 - val_loss: 0.6269 - val_acc: 0.8723\n",
            "Epoch 143/150\n",
            "10/10 [==============================] - 17s 2s/step - loss: 0.1644 - acc: 0.9375 - val_loss: 0.5354 - val_acc: 0.9015\n",
            "Epoch 144/150\n",
            "10/10 [==============================] - 17s 2s/step - loss: 0.2442 - acc: 0.9097 - val_loss: 0.6206 - val_acc: 0.8759\n",
            "Epoch 145/150\n",
            "10/10 [==============================] - 17s 2s/step - loss: 0.2318 - acc: 0.9250 - val_loss: 0.8228 - val_acc: 0.8723\n",
            "Epoch 146/150\n",
            "10/10 [==============================] - 17s 2s/step - loss: 0.2643 - acc: 0.9097 - val_loss: 0.5594 - val_acc: 0.8796\n",
            "Epoch 147/150\n",
            "10/10 [==============================] - 17s 2s/step - loss: 0.2312 - acc: 0.9125 - val_loss: 0.8725 - val_acc: 0.7737\n",
            "Epoch 148/150\n",
            "10/10 [==============================] - 17s 2s/step - loss: 0.2860 - acc: 0.8968 - val_loss: 0.6336 - val_acc: 0.8686\n",
            "Epoch 149/150\n",
            "10/10 [==============================] - 17s 2s/step - loss: 0.2973 - acc: 0.9000 - val_loss: 0.5222 - val_acc: 0.8467\n",
            "Epoch 150/150\n",
            "10/10 [==============================] - 17s 2s/step - loss: 0.3501 - acc: 0.9062 - val_loss: 0.8872 - val_acc: 0.8212\n"
          ]
        }
      ],
      "source": [
        "history_1 = model.fit_generator(train_generator,\n",
        "                               steps_per_epoch=10,\n",
        "                                # thay epochs tăng từ từ lên tầm 250\n",
        "                               epochs=150, validation_data=val_generator,\n",
        "                               use_multiprocessing=False,\n",
        "                               shuffle=True\n",
        "                               )"
      ]
    },
    {
      "cell_type": "code",
      "execution_count": null,
      "metadata": {
        "id": "_gFD8eR12Xv7",
        "outputId": "08e44168-9637-4549-ab30-b9df021b144c",
        "colab": {
          "base_uri": "https://localhost:8080/",
          "height": 223
        }
      },
      "outputs": [
        {
          "output_type": "stream",
          "name": "stdout",
          "text": [
            "114/114 [==============================] - 81s 710ms/step\n"
          ]
        },
        {
          "output_type": "execute_result",
          "data": {
            "text/plain": [
              "  image_id       healthy  multiple_diseases          rust          scab\n",
              "0   Test_0  1.437271e-03       5.768953e-02  9.249712e-01  1.590202e-02\n",
              "1   Test_1  1.299925e-04       3.813896e-03  9.959292e-01  1.268632e-04\n",
              "2   Test_2  9.294681e-06       1.647142e-04  5.282595e-07  9.998255e-01\n",
              "3   Test_3  9.986542e-01       1.844354e-04  2.116230e-04  9.497402e-04\n",
              "4   Test_4  3.153705e-12       4.119640e-07  9.999996e-01  5.644406e-11"
            ],
            "text/html": [
              "\n",
              "  <div id=\"df-a2c435a0-dd1e-4de6-a418-3a6646f556ed\">\n",
              "    <div class=\"colab-df-container\">\n",
              "      <div>\n",
              "<style scoped>\n",
              "    .dataframe tbody tr th:only-of-type {\n",
              "        vertical-align: middle;\n",
              "    }\n",
              "\n",
              "    .dataframe tbody tr th {\n",
              "        vertical-align: top;\n",
              "    }\n",
              "\n",
              "    .dataframe thead th {\n",
              "        text-align: right;\n",
              "    }\n",
              "</style>\n",
              "<table border=\"1\" class=\"dataframe\">\n",
              "  <thead>\n",
              "    <tr style=\"text-align: right;\">\n",
              "      <th></th>\n",
              "      <th>image_id</th>\n",
              "      <th>healthy</th>\n",
              "      <th>multiple_diseases</th>\n",
              "      <th>rust</th>\n",
              "      <th>scab</th>\n",
              "    </tr>\n",
              "  </thead>\n",
              "  <tbody>\n",
              "    <tr>\n",
              "      <th>0</th>\n",
              "      <td>Test_0</td>\n",
              "      <td>1.437271e-03</td>\n",
              "      <td>5.768953e-02</td>\n",
              "      <td>9.249712e-01</td>\n",
              "      <td>1.590202e-02</td>\n",
              "    </tr>\n",
              "    <tr>\n",
              "      <th>1</th>\n",
              "      <td>Test_1</td>\n",
              "      <td>1.299925e-04</td>\n",
              "      <td>3.813896e-03</td>\n",
              "      <td>9.959292e-01</td>\n",
              "      <td>1.268632e-04</td>\n",
              "    </tr>\n",
              "    <tr>\n",
              "      <th>2</th>\n",
              "      <td>Test_2</td>\n",
              "      <td>9.294681e-06</td>\n",
              "      <td>1.647142e-04</td>\n",
              "      <td>5.282595e-07</td>\n",
              "      <td>9.998255e-01</td>\n",
              "    </tr>\n",
              "    <tr>\n",
              "      <th>3</th>\n",
              "      <td>Test_3</td>\n",
              "      <td>9.986542e-01</td>\n",
              "      <td>1.844354e-04</td>\n",
              "      <td>2.116230e-04</td>\n",
              "      <td>9.497402e-04</td>\n",
              "    </tr>\n",
              "    <tr>\n",
              "      <th>4</th>\n",
              "      <td>Test_4</td>\n",
              "      <td>3.153705e-12</td>\n",
              "      <td>4.119640e-07</td>\n",
              "      <td>9.999996e-01</td>\n",
              "      <td>5.644406e-11</td>\n",
              "    </tr>\n",
              "  </tbody>\n",
              "</table>\n",
              "</div>\n",
              "      <button class=\"colab-df-convert\" onclick=\"convertToInteractive('df-a2c435a0-dd1e-4de6-a418-3a6646f556ed')\"\n",
              "              title=\"Convert this dataframe to an interactive table.\"\n",
              "              style=\"display:none;\">\n",
              "        \n",
              "  <svg xmlns=\"http://www.w3.org/2000/svg\" height=\"24px\"viewBox=\"0 0 24 24\"\n",
              "       width=\"24px\">\n",
              "    <path d=\"M0 0h24v24H0V0z\" fill=\"none\"/>\n",
              "    <path d=\"M18.56 5.44l.94 2.06.94-2.06 2.06-.94-2.06-.94-.94-2.06-.94 2.06-2.06.94zm-11 1L8.5 8.5l.94-2.06 2.06-.94-2.06-.94L8.5 2.5l-.94 2.06-2.06.94zm10 10l.94 2.06.94-2.06 2.06-.94-2.06-.94-.94-2.06-.94 2.06-2.06.94z\"/><path d=\"M17.41 7.96l-1.37-1.37c-.4-.4-.92-.59-1.43-.59-.52 0-1.04.2-1.43.59L10.3 9.45l-7.72 7.72c-.78.78-.78 2.05 0 2.83L4 21.41c.39.39.9.59 1.41.59.51 0 1.02-.2 1.41-.59l7.78-7.78 2.81-2.81c.8-.78.8-2.07 0-2.86zM5.41 20L4 18.59l7.72-7.72 1.47 1.35L5.41 20z\"/>\n",
              "  </svg>\n",
              "      </button>\n",
              "      \n",
              "  <style>\n",
              "    .colab-df-container {\n",
              "      display:flex;\n",
              "      flex-wrap:wrap;\n",
              "      gap: 12px;\n",
              "    }\n",
              "\n",
              "    .colab-df-convert {\n",
              "      background-color: #E8F0FE;\n",
              "      border: none;\n",
              "      border-radius: 50%;\n",
              "      cursor: pointer;\n",
              "      display: none;\n",
              "      fill: #1967D2;\n",
              "      height: 32px;\n",
              "      padding: 0 0 0 0;\n",
              "      width: 32px;\n",
              "    }\n",
              "\n",
              "    .colab-df-convert:hover {\n",
              "      background-color: #E2EBFA;\n",
              "      box-shadow: 0px 1px 2px rgba(60, 64, 67, 0.3), 0px 1px 3px 1px rgba(60, 64, 67, 0.15);\n",
              "      fill: #174EA6;\n",
              "    }\n",
              "\n",
              "    [theme=dark] .colab-df-convert {\n",
              "      background-color: #3B4455;\n",
              "      fill: #D2E3FC;\n",
              "    }\n",
              "\n",
              "    [theme=dark] .colab-df-convert:hover {\n",
              "      background-color: #434B5C;\n",
              "      box-shadow: 0px 1px 3px 1px rgba(0, 0, 0, 0.15);\n",
              "      filter: drop-shadow(0px 1px 2px rgba(0, 0, 0, 0.3));\n",
              "      fill: #FFFFFF;\n",
              "    }\n",
              "  </style>\n",
              "\n",
              "      <script>\n",
              "        const buttonEl =\n",
              "          document.querySelector('#df-a2c435a0-dd1e-4de6-a418-3a6646f556ed button.colab-df-convert');\n",
              "        buttonEl.style.display =\n",
              "          google.colab.kernel.accessAllowed ? 'block' : 'none';\n",
              "\n",
              "        async function convertToInteractive(key) {\n",
              "          const element = document.querySelector('#df-a2c435a0-dd1e-4de6-a418-3a6646f556ed');\n",
              "          const dataTable =\n",
              "            await google.colab.kernel.invokeFunction('convertToInteractive',\n",
              "                                                     [key], {});\n",
              "          if (!dataTable) return;\n",
              "\n",
              "          const docLinkHtml = 'Like what you see? Visit the ' +\n",
              "            '<a target=\"_blank\" href=https://colab.research.google.com/notebooks/data_table.ipynb>data table notebook</a>'\n",
              "            + ' to learn more about interactive tables.';\n",
              "          element.innerHTML = '';\n",
              "          dataTable['output_type'] = 'display_data';\n",
              "          await google.colab.output.renderOutput(dataTable, element);\n",
              "          const docLink = document.createElement('div');\n",
              "          docLink.innerHTML = docLinkHtml;\n",
              "          element.appendChild(docLink);\n",
              "        }\n",
              "      </script>\n",
              "    </div>\n",
              "  </div>\n",
              "  "
            ]
          },
          "metadata": {},
          "execution_count": 25
        }
      ],
      "source": [
        "SUB_PATH = \"/content/drive/MyDrive/NhanDang/NeuralNetwork/Plant-Pathology-2020---FGVC7-master/sample_submission.csv\"\n",
        "\n",
        "sub = pd.read_csv(SUB_PATH)\n",
        "probs_RESNET = model.predict(test_generator, verbose=1)\n",
        "sub.loc[:, 'healthy':] = probs_RESNET\n",
        "sub.to_csv('/content/drive/MyDrive/NhanDang/NeuralNetwork/Plant-Pathology-2020---FGVC7-master/submission_test.csv', index=False)\n",
        "sub.head()"
      ]
    },
    {
      "cell_type": "code",
      "execution_count": null,
      "metadata": {
        "id": "jFX_3nsT2Xv7"
      },
      "outputs": [],
      "source": [
        "tf.keras.models.save_model(model, 'my_model.hdf5')"
      ]
    },
    {
      "cell_type": "code",
      "execution_count": null,
      "metadata": {
        "id": "ca7IIE8-2Xv7"
      },
      "outputs": [],
      "source": [
        ""
      ]
    }
  ],
  "metadata": {
    "kernelspec": {
      "display_name": "Python 3",
      "language": "python",
      "name": "python3"
    },
    "language_info": {
      "codemirror_mode": {
        "name": "ipython",
        "version": 3
      },
      "file_extension": ".py",
      "mimetype": "text/x-python",
      "name": "python",
      "nbconvert_exporter": "python",
      "pygments_lexer": "ipython3",
      "version": "3.7.6"
    },
    "colab": {
      "name": "Bản sao của Plant_pathology.ipynb",
      "provenance": [],
      "collapsed_sections": []
    },
    "accelerator": "GPU"
  },
  "nbformat": 4,
  "nbformat_minor": 0
}